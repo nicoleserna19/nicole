{
  "metadata": {
    "kernelspec": {
      "display_name": "Pyolite",
      "language": "python",
      "name": "python"
    },
    "language_info": {
      "codemirror_mode": {
        "name": "python",
        "version": 3
      },
      "file_extension": ".py",
      "mimetype": "text/x-python",
      "name": "python",
      "nbconvert_exporter": "python",
      "pygments_lexer": "ipython3",
      "version": "3.8"
    }
  },
  "nbformat_minor": 5,
  "nbformat": 4,
  "cells": [
    {
      "cell_type": "code",
      "source": "import numpy as np \nimport matplotlib.pyplot as plt ",
      "metadata": {
        "trusted": true
      },
      "execution_count": 1,
      "outputs": [],
      "id": "ea49f603-aabf-4e76-823a-cd4efb49e1d2"
    },
    {
      "cell_type": "code",
      "source": "X = ['5 kg','10 kg','15 kg','20 kg']\ndom = [0.044,0.081,0.166,0.235]\nnondom = [0.032,0.025,0.039,0.297]\n",
      "metadata": {},
      "execution_count": null,
      "outputs": [],
      "id": "68c48bbf-0ec5-4414-8db4-037f5486dd83"
    }
  ]
}